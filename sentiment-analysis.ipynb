{
 "cells": [
  {
   "cell_type": "markdown",
   "metadata": {},
   "source": [
    "# Assignment 1 - Sentiment Analysis of Tweets on Canadian Political Landscape "
   ]
  },
  {
   "cell_type": "markdown",
   "metadata": {},
   "source": [
    "This notebook explore prediction on tweet sentiments using logistic regression. We will use sentiment values to analyze potential insights into the political sentiment of the Canadian electorate with respect to the major political parties participating in the 2015 federal election.\n",
    "\n",
    "Three datasets are available: a classfied training set, a classfied test set, and an unclassified test set which will be used for analyzing political sentiment."
   ]
  },
  {
   "cell_type": "code",
   "execution_count": 1,
   "metadata": {
    "collapsed": false
   },
   "outputs": [
    {
     "name": "stdout",
     "output_type": "stream",
     "text": [
      "[nltk_data] Downloading package stopwords to /Users/admin/nltk_data...\n",
      "[nltk_data]   Package stopwords is already up-to-date!\n",
      "[nltk_data] Downloading package punkt to /Users/admin/nltk_data...\n",
      "[nltk_data]   Package punkt is already up-to-date!\n"
     ]
    },
    {
     "data": {
      "text/plain": [
       "True"
      ]
     },
     "execution_count": 1,
     "metadata": {},
     "output_type": "execute_result"
    }
   ],
   "source": [
    "# import useful modules \n",
    "import pandas as pd\n",
    "import re as regex\n",
    "import sklearn\n",
    "import requests\n",
    "import numpy as np\n",
    "from collections import Counter\n",
    "import html\n",
    "import matplotlib.pyplot as plt\n",
    "from datetime import datetime\n",
    "import nltk\n",
    "nltk.download('stopwords')\n",
    "nltk.download('punkt')"
   ]
  },
  {
   "cell_type": "markdown",
   "metadata": {},
   "source": [
    "We first load unclassfied and classified tweets, and have a look at the data. We add party columns in unclassfied dataframe which will be later used to indicate if a tweet is related to certain parties. For example, if a tweet is related to Liberal party, then its corresponding 'Liberal' value will be true."
   ]
  },
  {
   "cell_type": "code",
   "execution_count": 2,
   "metadata": {
    "collapsed": true
   },
   "outputs": [],
   "source": [
    "#retrive unclassfied data as dataframe\n",
    "unclassified_tweetsList = open('unclassified_tweets.txt','r').read().split('\\n')\n",
    "unclassified_tweetsList = list(filter(None, unclassified_tweetsList))\n",
    "unclassified_tweetsFrame = pd.DataFrame ({\n",
    "        'text': unclassified_tweetsList,\n",
    "        'class': '',\n",
    "        'Liberal': 'false',\n",
    "        'Conservative': 'false',\n",
    "        'Bloc Quebecois': 'false',\n",
    "        'Democratic': 'false',\n",
    "        'Green': 'false'\n",
    "})\n",
    "\n",
    "#retrive classfied data as dataframe\n",
    "classified_tweetsFrame = pd.read_csv('classified_tweets.txt', usecols = [\"class\",\"id\",\"date\",\"query\",\"user\",\"text\"])"
   ]
  },
  {
   "cell_type": "code",
   "execution_count": 3,
   "metadata": {
    "collapsed": false
   },
   "outputs": [
    {
     "data": {
      "text/html": [
       "<div>\n",
       "<style scoped>\n",
       "    .dataframe tbody tr th:only-of-type {\n",
       "        vertical-align: middle;\n",
       "    }\n",
       "\n",
       "    .dataframe tbody tr th {\n",
       "        vertical-align: top;\n",
       "    }\n",
       "\n",
       "    .dataframe thead th {\n",
       "        text-align: right;\n",
       "    }\n",
       "</style>\n",
       "<table border=\"1\" class=\"dataframe\">\n",
       "  <thead>\n",
       "    <tr style=\"text-align: right;\">\n",
       "      <th></th>\n",
       "      <th>Bloc Quebecois</th>\n",
       "      <th>Conservative</th>\n",
       "      <th>Democratic</th>\n",
       "      <th>Green</th>\n",
       "      <th>Liberal</th>\n",
       "      <th>class</th>\n",
       "      <th>text</th>\n",
       "    </tr>\n",
       "  </thead>\n",
       "  <tbody>\n",
       "    <tr>\n",
       "      <th>0</th>\n",
       "      <td>false</td>\n",
       "      <td>false</td>\n",
       "      <td>false</td>\n",
       "      <td>false</td>\n",
       "      <td>false</td>\n",
       "      <td></td>\n",
       "      <td>﻿living the dream. #cameraman #camera #camerac...</td>\n",
       "    </tr>\n",
       "    <tr>\n",
       "      <th>1</th>\n",
       "      <td>false</td>\n",
       "      <td>false</td>\n",
       "      <td>false</td>\n",
       "      <td>false</td>\n",
       "      <td>false</td>\n",
       "      <td></td>\n",
       "      <td>justin #trudeau's reasons for thanksgiving. to...</td>\n",
       "    </tr>\n",
       "    <tr>\n",
       "      <th>2</th>\n",
       "      <td>false</td>\n",
       "      <td>false</td>\n",
       "      <td>false</td>\n",
       "      <td>false</td>\n",
       "      <td>false</td>\n",
       "      <td></td>\n",
       "      <td>@themadape   butt…..butt…..we’re allergic to l...</td>\n",
       "    </tr>\n",
       "    <tr>\n",
       "      <th>3</th>\n",
       "      <td>false</td>\n",
       "      <td>false</td>\n",
       "      <td>false</td>\n",
       "      <td>false</td>\n",
       "      <td>false</td>\n",
       "      <td></td>\n",
       "      <td>2 massive explosions at peace march in #turkey...</td>\n",
       "    </tr>\n",
       "    <tr>\n",
       "      <th>4</th>\n",
       "      <td>false</td>\n",
       "      <td>false</td>\n",
       "      <td>false</td>\n",
       "      <td>false</td>\n",
       "      <td>false</td>\n",
       "      <td></td>\n",
       "      <td>#mulcair suggests there’s bad blood between hi...</td>\n",
       "    </tr>\n",
       "  </tbody>\n",
       "</table>\n",
       "</div>"
      ],
      "text/plain": [
       "  Bloc Quebecois Conservative Democratic  Green Liberal class  \\\n",
       "0          false        false      false  false   false         \n",
       "1          false        false      false  false   false         \n",
       "2          false        false      false  false   false         \n",
       "3          false        false      false  false   false         \n",
       "4          false        false      false  false   false         \n",
       "\n",
       "                                                text  \n",
       "0  ﻿living the dream. #cameraman #camera #camerac...  \n",
       "1  justin #trudeau's reasons for thanksgiving. to...  \n",
       "2  @themadape   butt…..butt…..we’re allergic to l...  \n",
       "3  2 massive explosions at peace march in #turkey...  \n",
       "4  #mulcair suggests there’s bad blood between hi...  "
      ]
     },
     "execution_count": 3,
     "metadata": {},
     "output_type": "execute_result"
    }
   ],
   "source": [
    "unclassified_tweetsFrame.head()"
   ]
  },
  {
   "cell_type": "code",
   "execution_count": 4,
   "metadata": {
    "collapsed": false
   },
   "outputs": [
    {
     "data": {
      "text/html": [
       "<div>\n",
       "<style scoped>\n",
       "    .dataframe tbody tr th:only-of-type {\n",
       "        vertical-align: middle;\n",
       "    }\n",
       "\n",
       "    .dataframe tbody tr th {\n",
       "        vertical-align: top;\n",
       "    }\n",
       "\n",
       "    .dataframe thead th {\n",
       "        text-align: right;\n",
       "    }\n",
       "</style>\n",
       "<table border=\"1\" class=\"dataframe\">\n",
       "  <thead>\n",
       "    <tr style=\"text-align: right;\">\n",
       "      <th></th>\n",
       "      <th>class</th>\n",
       "      <th>id</th>\n",
       "      <th>date</th>\n",
       "      <th>query</th>\n",
       "      <th>user</th>\n",
       "      <th>text</th>\n",
       "    </tr>\n",
       "  </thead>\n",
       "  <tbody>\n",
       "    <tr>\n",
       "      <th>0</th>\n",
       "      <td>0</td>\n",
       "      <td>1467810369</td>\n",
       "      <td>Mon Apr 06 22:19:45 PDT 2009</td>\n",
       "      <td>NO_QUERY</td>\n",
       "      <td>_TheSpecialOne_</td>\n",
       "      <td>@switchfoot http://twitpic.com/2y1zl - Awww, t...</td>\n",
       "    </tr>\n",
       "    <tr>\n",
       "      <th>1</th>\n",
       "      <td>0</td>\n",
       "      <td>1467810672</td>\n",
       "      <td>Mon Apr 06 22:19:49 PDT 2009</td>\n",
       "      <td>NO_QUERY</td>\n",
       "      <td>scotthamilton</td>\n",
       "      <td>is upset that he can't update his Facebook by ...</td>\n",
       "    </tr>\n",
       "    <tr>\n",
       "      <th>2</th>\n",
       "      <td>0</td>\n",
       "      <td>1467810917</td>\n",
       "      <td>Mon Apr 06 22:19:53 PDT 2009</td>\n",
       "      <td>NO_QUERY</td>\n",
       "      <td>mattycus</td>\n",
       "      <td>@Kenichan I dived many times for the ball. Man...</td>\n",
       "    </tr>\n",
       "    <tr>\n",
       "      <th>3</th>\n",
       "      <td>0</td>\n",
       "      <td>1467811184</td>\n",
       "      <td>Mon Apr 06 22:19:57 PDT 2009</td>\n",
       "      <td>NO_QUERY</td>\n",
       "      <td>ElleCTF</td>\n",
       "      <td>my whole body feels itchy and like its on fire</td>\n",
       "    </tr>\n",
       "    <tr>\n",
       "      <th>4</th>\n",
       "      <td>0</td>\n",
       "      <td>1467811193</td>\n",
       "      <td>Mon Apr 06 22:19:57 PDT 2009</td>\n",
       "      <td>NO_QUERY</td>\n",
       "      <td>Karoli</td>\n",
       "      <td>@nationwideclass no, it's not behaving at all....</td>\n",
       "    </tr>\n",
       "  </tbody>\n",
       "</table>\n",
       "</div>"
      ],
      "text/plain": [
       "   class          id                          date     query             user  \\\n",
       "0      0  1467810369  Mon Apr 06 22:19:45 PDT 2009  NO_QUERY  _TheSpecialOne_   \n",
       "1      0  1467810672  Mon Apr 06 22:19:49 PDT 2009  NO_QUERY    scotthamilton   \n",
       "2      0  1467810917  Mon Apr 06 22:19:53 PDT 2009  NO_QUERY         mattycus   \n",
       "3      0  1467811184  Mon Apr 06 22:19:57 PDT 2009  NO_QUERY          ElleCTF   \n",
       "4      0  1467811193  Mon Apr 06 22:19:57 PDT 2009  NO_QUERY           Karoli   \n",
       "\n",
       "                                                text  \n",
       "0  @switchfoot http://twitpic.com/2y1zl - Awww, t...  \n",
       "1  is upset that he can't update his Facebook by ...  \n",
       "2  @Kenichan I dived many times for the ball. Man...  \n",
       "3    my whole body feels itchy and like its on fire   \n",
       "4  @nationwideclass no, it's not behaving at all....  "
      ]
     },
     "execution_count": 4,
     "metadata": {},
     "output_type": "execute_result"
    }
   ],
   "source": [
    "classified_tweetsFrame.head()"
   ]
  },
  {
   "cell_type": "markdown",
   "metadata": {},
   "source": [
    "## Part 1: Data Cleaning\n",
    "We clean the Twitter data to remove 'noise' and to have better prediction results.\n",
    "All urls, html tags and attributes, special characters should be removed in both datasets.\n",
    "Tweets are converted to lowercase.\n",
    "Html characters are converted to ascii number."
   ]
  },
  {
   "cell_type": "code",
   "execution_count": 5,
   "metadata": {
    "collapsed": true
   },
   "outputs": [],
   "source": [
    "#remove regex in tweets\n",
    "def remove_by_regex(tweets, expression):\n",
    "    tweets.loc[:, 'text'].replace(expression, \"\", inplace=True)\n",
    "    return tweets\n",
    "\n",
    "#remove urls in tweets\n",
    "def remove_urls(tweets):\n",
    "    return remove_by_regex(tweets, regex.compile(r\"(http:\\/\\/www\\.|https:\\/\\/www\\.|http:\\/\\/|https:\\/\\/)?[a-z0-9]+([\\-\\.]{1}[a-z0-9]+)*\\.[a-z]{2,5}(:[0-9]{1,5})?(\\/.*?($|\\s))\"))\n",
    "\n",
    "#remove html tags and attributes\n",
    "def remove_html_tags(tweets):\n",
    "    return remove_by_regex(tweets, regex.compile(r\"<[^>]+>\"))\n",
    "\n",
    "#remove punctuations and special characters for better training data\n",
    "def remove_special_characters(tweets):  \n",
    "    for remove in map(lambda r: regex.compile(regex.escape(r)), [\",\", \":\", \"\\\"\", \"=\", \";\", \"%\", \"$\",\n",
    "                                                                     \"@\", \"%\", \"^\", \"*\", \"(\", \")\", \"{\", \"}\",\n",
    "                                                                     \"[\", \"]\", \"|\", \"/\", \"\\\\\", \">\", \"<\", \"-\",\n",
    "                                                                     \"!\", \"?\", \".\", \"'\",\n",
    "                                                                     \"--\", \"---\", \"#\",\"…\"]):\n",
    "        tweets.loc[:, 'text'].replace(remove, \" \", inplace=True)\n",
    "    return tweets\n",
    "\n",
    "#remove usernames\n",
    "def remove_usernames(tweets):\n",
    "        return remove_by_regex(tweets, regex.compile(r\"@[^\\s]+[\\s]?\"))\n",
    "\n",
    "#convert tweets to lowercase\n",
    "def to_lower_case(tweets):\n",
    "    return tweets.apply(lambda x: x.astype(str).str.lower())\n",
    "\n",
    "#convert html character to ascii\n",
    "def convert_html_character(tweets):\n",
    "    return tweets.replace({'&quot;': '34', '&amp;': '38', '&lt;' : '60', '&gt' : '62'}, regex=True)\n",
    "\n",
    "#remove stop words\n",
    "def remove_stop_words(tweets):\n",
    "    for i in range(0, len(tweets)):\n",
    "        tweets.loc[i,'text'] = ' '.join([word for word in tweets['text'][i].split() if word not in nltk.corpus.stopwords.words(\"english\")])\n",
    "    return tweets\n",
    "    \n",
    "def data_cleaning(tweetsList) :\n",
    "    tweetsList = to_lower_case(remove_special_characters(convert_html_character(remove_html_tags(remove_urls(tweetsList)))))\n",
    "    return tweetsList"
   ]
  },
  {
   "cell_type": "markdown",
   "metadata": {},
   "source": [
    "We keep usernames in unclassfied tweets because they might contain keywords related to political parties. \n",
    "We remove all stop words in unclassfied tweets that exists in nltk english stop word collection."
   ]
  },
  {
   "cell_type": "code",
   "execution_count": 6,
   "metadata": {
    "collapsed": false
   },
   "outputs": [
    {
     "data": {
      "text/html": [
       "<div>\n",
       "<style scoped>\n",
       "    .dataframe tbody tr th:only-of-type {\n",
       "        vertical-align: middle;\n",
       "    }\n",
       "\n",
       "    .dataframe tbody tr th {\n",
       "        vertical-align: top;\n",
       "    }\n",
       "\n",
       "    .dataframe thead th {\n",
       "        text-align: right;\n",
       "    }\n",
       "</style>\n",
       "<table border=\"1\" class=\"dataframe\">\n",
       "  <thead>\n",
       "    <tr style=\"text-align: right;\">\n",
       "      <th></th>\n",
       "      <th>Bloc Quebecois</th>\n",
       "      <th>Conservative</th>\n",
       "      <th>Democratic</th>\n",
       "      <th>Green</th>\n",
       "      <th>Liberal</th>\n",
       "      <th>class</th>\n",
       "      <th>text</th>\n",
       "    </tr>\n",
       "  </thead>\n",
       "  <tbody>\n",
       "    <tr>\n",
       "      <th>0</th>\n",
       "      <td>false</td>\n",
       "      <td>false</td>\n",
       "      <td>false</td>\n",
       "      <td>false</td>\n",
       "      <td>false</td>\n",
       "      <td></td>\n",
       "      <td>﻿living dream cameraman camera cameraception c...</td>\n",
       "    </tr>\n",
       "    <tr>\n",
       "      <th>1</th>\n",
       "      <td>false</td>\n",
       "      <td>false</td>\n",
       "      <td>false</td>\n",
       "      <td>false</td>\n",
       "      <td>false</td>\n",
       "      <td></td>\n",
       "      <td>justin trudeau reasons thanksgiving today mont...</td>\n",
       "    </tr>\n",
       "    <tr>\n",
       "      <th>2</th>\n",
       "      <td>false</td>\n",
       "      <td>false</td>\n",
       "      <td>false</td>\n",
       "      <td>false</td>\n",
       "      <td>false</td>\n",
       "      <td></td>\n",
       "      <td>themadape butt butt we’re allergic latex makes...</td>\n",
       "    </tr>\n",
       "    <tr>\n",
       "      <th>3</th>\n",
       "      <td>false</td>\n",
       "      <td>false</td>\n",
       "      <td>false</td>\n",
       "      <td>false</td>\n",
       "      <td>false</td>\n",
       "      <td></td>\n",
       "      <td>2 massive explosions peace march turkey 30 kil...</td>\n",
       "    </tr>\n",
       "    <tr>\n",
       "      <th>4</th>\n",
       "      <td>false</td>\n",
       "      <td>false</td>\n",
       "      <td>false</td>\n",
       "      <td>false</td>\n",
       "      <td>false</td>\n",
       "      <td></td>\n",
       "      <td>mulcair suggests there’s bad blood trudeau rea...</td>\n",
       "    </tr>\n",
       "  </tbody>\n",
       "</table>\n",
       "</div>"
      ],
      "text/plain": [
       "  Bloc Quebecois Conservative Democratic  Green Liberal class  \\\n",
       "0          false        false      false  false   false         \n",
       "1          false        false      false  false   false         \n",
       "2          false        false      false  false   false         \n",
       "3          false        false      false  false   false         \n",
       "4          false        false      false  false   false         \n",
       "\n",
       "                                                text  \n",
       "0  ﻿living dream cameraman camera cameraception c...  \n",
       "1  justin trudeau reasons thanksgiving today mont...  \n",
       "2  themadape butt butt we’re allergic latex makes...  \n",
       "3  2 massive explosions peace march turkey 30 kil...  \n",
       "4  mulcair suggests there’s bad blood trudeau rea...  "
      ]
     },
     "execution_count": 6,
     "metadata": {},
     "output_type": "execute_result"
    }
   ],
   "source": [
    "unclassified_tweetsFrame = remove_stop_words(data_cleaning(unclassified_tweetsFrame))\n",
    "unclassified_tweetsFrame.head()"
   ]
  },
  {
   "cell_type": "markdown",
   "metadata": {},
   "source": [
    "We remove usernames in classified tweets because they should not affect sentiment value.\n",
    "Stop words will be later removed using CountVectorizer(stop_words = 'english') in part 4."
   ]
  },
  {
   "cell_type": "code",
   "execution_count": 7,
   "metadata": {
    "collapsed": false
   },
   "outputs": [
    {
     "data": {
      "text/html": [
       "<div>\n",
       "<style scoped>\n",
       "    .dataframe tbody tr th:only-of-type {\n",
       "        vertical-align: middle;\n",
       "    }\n",
       "\n",
       "    .dataframe tbody tr th {\n",
       "        vertical-align: top;\n",
       "    }\n",
       "\n",
       "    .dataframe thead th {\n",
       "        text-align: right;\n",
       "    }\n",
       "</style>\n",
       "<table border=\"1\" class=\"dataframe\">\n",
       "  <thead>\n",
       "    <tr style=\"text-align: right;\">\n",
       "      <th></th>\n",
       "      <th>class</th>\n",
       "      <th>id</th>\n",
       "      <th>date</th>\n",
       "      <th>query</th>\n",
       "      <th>user</th>\n",
       "      <th>text</th>\n",
       "    </tr>\n",
       "  </thead>\n",
       "  <tbody>\n",
       "    <tr>\n",
       "      <th>0</th>\n",
       "      <td>0</td>\n",
       "      <td>1467810369</td>\n",
       "      <td>mon apr 06 22:19:45 pdt 2009</td>\n",
       "      <td>no_query</td>\n",
       "      <td>_thespecialone_</td>\n",
       "      <td>awww  that s a bummer   you shoulda got davi...</td>\n",
       "    </tr>\n",
       "    <tr>\n",
       "      <th>1</th>\n",
       "      <td>0</td>\n",
       "      <td>1467810672</td>\n",
       "      <td>mon apr 06 22:19:49 pdt 2009</td>\n",
       "      <td>no_query</td>\n",
       "      <td>scotthamilton</td>\n",
       "      <td>is upset that he can t update his facebook by ...</td>\n",
       "    </tr>\n",
       "    <tr>\n",
       "      <th>2</th>\n",
       "      <td>0</td>\n",
       "      <td>1467810917</td>\n",
       "      <td>mon apr 06 22:19:53 pdt 2009</td>\n",
       "      <td>no_query</td>\n",
       "      <td>mattycus</td>\n",
       "      <td>i dived many times for the ball  managed to sa...</td>\n",
       "    </tr>\n",
       "    <tr>\n",
       "      <th>3</th>\n",
       "      <td>0</td>\n",
       "      <td>1467811184</td>\n",
       "      <td>mon apr 06 22:19:57 pdt 2009</td>\n",
       "      <td>no_query</td>\n",
       "      <td>ellectf</td>\n",
       "      <td>my whole body feels itchy and like its on fire</td>\n",
       "    </tr>\n",
       "    <tr>\n",
       "      <th>4</th>\n",
       "      <td>0</td>\n",
       "      <td>1467811193</td>\n",
       "      <td>mon apr 06 22:19:57 pdt 2009</td>\n",
       "      <td>no_query</td>\n",
       "      <td>karoli</td>\n",
       "      <td>no  it s not behaving at all  i m mad  why am ...</td>\n",
       "    </tr>\n",
       "  </tbody>\n",
       "</table>\n",
       "</div>"
      ],
      "text/plain": [
       "  class          id                          date     query             user  \\\n",
       "0     0  1467810369  mon apr 06 22:19:45 pdt 2009  no_query  _thespecialone_   \n",
       "1     0  1467810672  mon apr 06 22:19:49 pdt 2009  no_query    scotthamilton   \n",
       "2     0  1467810917  mon apr 06 22:19:53 pdt 2009  no_query         mattycus   \n",
       "3     0  1467811184  mon apr 06 22:19:57 pdt 2009  no_query          ellectf   \n",
       "4     0  1467811193  mon apr 06 22:19:57 pdt 2009  no_query           karoli   \n",
       "\n",
       "                                                text  \n",
       "0    awww  that s a bummer   you shoulda got davi...  \n",
       "1  is upset that he can t update his facebook by ...  \n",
       "2  i dived many times for the ball  managed to sa...  \n",
       "3    my whole body feels itchy and like its on fire   \n",
       "4  no  it s not behaving at all  i m mad  why am ...  "
      ]
     },
     "execution_count": 7,
     "metadata": {},
     "output_type": "execute_result"
    }
   ],
   "source": [
    "#clean classified tweets, stop words will be later removed using CountVectorizer(stop_words = 'english')\n",
    "classified_tweetsFrame = data_cleaning(remove_usernames(classified_tweetsFrame))\n",
    "classified_tweetsFrame.head()"
   ]
  },
  {
   "cell_type": "markdown",
   "metadata": {},
   "source": [
    "## Part 2: Exploratory Analysis"
   ]
  },
  {
   "cell_type": "markdown",
   "metadata": {},
   "source": [
    "### a. Exploratory Analysis on Unclassfied Tweets"
   ]
  },
  {
   "cell_type": "markdown",
   "metadata": {},
   "source": [
    "We tokenize words in unclassfied tweets because we need to iterate through them to find words related to political parties."
   ]
  },
  {
   "cell_type": "code",
   "execution_count": 8,
   "metadata": {
    "collapsed": false
   },
   "outputs": [
    {
     "data": {
      "text/html": [
       "<div>\n",
       "<style scoped>\n",
       "    .dataframe tbody tr th:only-of-type {\n",
       "        vertical-align: middle;\n",
       "    }\n",
       "\n",
       "    .dataframe tbody tr th {\n",
       "        vertical-align: top;\n",
       "    }\n",
       "\n",
       "    .dataframe thead th {\n",
       "        text-align: right;\n",
       "    }\n",
       "</style>\n",
       "<table border=\"1\" class=\"dataframe\">\n",
       "  <thead>\n",
       "    <tr style=\"text-align: right;\">\n",
       "      <th></th>\n",
       "      <th>Bloc Quebecois</th>\n",
       "      <th>Conservative</th>\n",
       "      <th>Democratic</th>\n",
       "      <th>Green</th>\n",
       "      <th>Liberal</th>\n",
       "      <th>class</th>\n",
       "      <th>text</th>\n",
       "      <th>tokenized_text</th>\n",
       "    </tr>\n",
       "  </thead>\n",
       "  <tbody>\n",
       "    <tr>\n",
       "      <th>0</th>\n",
       "      <td>false</td>\n",
       "      <td>false</td>\n",
       "      <td>false</td>\n",
       "      <td>false</td>\n",
       "      <td>false</td>\n",
       "      <td></td>\n",
       "      <td>﻿living dream cameraman camera cameraception c...</td>\n",
       "      <td>[﻿living, dream, cameraman, camera, cameracept...</td>\n",
       "    </tr>\n",
       "    <tr>\n",
       "      <th>1</th>\n",
       "      <td>false</td>\n",
       "      <td>false</td>\n",
       "      <td>false</td>\n",
       "      <td>false</td>\n",
       "      <td>false</td>\n",
       "      <td></td>\n",
       "      <td>justin trudeau reasons thanksgiving today mont...</td>\n",
       "      <td>[justin, trudeau, reasons, thanksgiving, today...</td>\n",
       "    </tr>\n",
       "    <tr>\n",
       "      <th>2</th>\n",
       "      <td>false</td>\n",
       "      <td>false</td>\n",
       "      <td>false</td>\n",
       "      <td>false</td>\n",
       "      <td>false</td>\n",
       "      <td></td>\n",
       "      <td>themadape butt butt we’re allergic latex makes...</td>\n",
       "      <td>[themadape, butt, butt, we, ’, re, allergic, l...</td>\n",
       "    </tr>\n",
       "    <tr>\n",
       "      <th>3</th>\n",
       "      <td>false</td>\n",
       "      <td>false</td>\n",
       "      <td>false</td>\n",
       "      <td>false</td>\n",
       "      <td>false</td>\n",
       "      <td></td>\n",
       "      <td>2 massive explosions peace march turkey 30 kil...</td>\n",
       "      <td>[2, massive, explosions, peace, march, turkey,...</td>\n",
       "    </tr>\n",
       "    <tr>\n",
       "      <th>4</th>\n",
       "      <td>false</td>\n",
       "      <td>false</td>\n",
       "      <td>false</td>\n",
       "      <td>false</td>\n",
       "      <td>false</td>\n",
       "      <td></td>\n",
       "      <td>mulcair suggests there’s bad blood trudeau rea...</td>\n",
       "      <td>[mulcair, suggests, there, ’, s, bad, blood, t...</td>\n",
       "    </tr>\n",
       "  </tbody>\n",
       "</table>\n",
       "</div>"
      ],
      "text/plain": [
       "  Bloc Quebecois Conservative Democratic  Green Liberal class  \\\n",
       "0          false        false      false  false   false         \n",
       "1          false        false      false  false   false         \n",
       "2          false        false      false  false   false         \n",
       "3          false        false      false  false   false         \n",
       "4          false        false      false  false   false         \n",
       "\n",
       "                                                text  \\\n",
       "0  ﻿living dream cameraman camera cameraception c...   \n",
       "1  justin trudeau reasons thanksgiving today mont...   \n",
       "2  themadape butt butt we’re allergic latex makes...   \n",
       "3  2 massive explosions peace march turkey 30 kil...   \n",
       "4  mulcair suggests there’s bad blood trudeau rea...   \n",
       "\n",
       "                                      tokenized_text  \n",
       "0  [﻿living, dream, cameraman, camera, cameracept...  \n",
       "1  [justin, trudeau, reasons, thanksgiving, today...  \n",
       "2  [themadape, butt, butt, we, ’, re, allergic, l...  \n",
       "3  [2, massive, explosions, peace, march, turkey,...  \n",
       "4  [mulcair, suggests, there, ’, s, bad, blood, t...  "
      ]
     },
     "execution_count": 8,
     "metadata": {},
     "output_type": "execute_result"
    }
   ],
   "source": [
    "def tokenize_table(tweets, tokenizer):\n",
    "    def tokenize_tweet(tweet):\n",
    "        #tokenize each tweet\n",
    "        tweet[\"tokenized_text\"] = tokenizer(tweet[\"text\"])\n",
    "        return tweet\n",
    "\n",
    "    tweets = tweets.apply(tokenize_tweet, axis=1)\n",
    "    return tweets\n",
    "\n",
    "unclassified_tweetsFrame = tokenize_table(unclassified_tweetsFrame, nltk.word_tokenize)\n",
    "unclassified_tweetsFrame.head()"
   ]
  },
  {
   "cell_type": "markdown",
   "metadata": {},
   "source": [
    "We iterate through each tokenized tweet to find out if it is related to politcal parties, count the number of tweets related to each party. As stop words in unclassified dataset were already removed in part 1, we save some running time. A tweet can be related to multiple parties because it may contain multiple different keywords. "
   ]
  },
  {
   "cell_type": "code",
   "execution_count": 9,
   "metadata": {
    "collapsed": false
   },
   "outputs": [
    {
     "name": "stdout",
     "output_type": "stream",
     "text": [
      "Counter({'Conservative': 648, 'Liberal': 622, 'Democratic': 321, 'Green': 40, 'Quebecois': 25})\n"
     ]
    }
   ],
   "source": [
    "tweet_parties = Counter()\n",
    "parties = [\"Liberal\", \"Conservative\", \"Quebecois\", \"Democratic\", \"Green\"]\n",
    "\n",
    "#check if a tweet is related to polical parties, set to true if related\n",
    "for i in range(len(unclassified_tweetsFrame)):\n",
    "    for word in unclassified_tweetsFrame.loc[i, 'tokenized_text']:\n",
    "        if word.find('trudeau') > -1 or word.find('liberal') > -1:\n",
    "            unclassified_tweetsFrame.loc[i, 'Liberal'] = 'true'\n",
    "            \n",
    "        if word.find('conservative') > -1 or word == 'tory' or word == 'tories' or word.find('harper') > -1:\n",
    "            unclassified_tweetsFrame.loc[i, 'Conservative'] = 'true'\n",
    "\n",
    "        if word.find('block') == -1 and word.find('bloc') > -1 or word.find('quebecois') > -1 or word.find('duceppe') > -1:\n",
    "            unclassified_tweetsFrame.loc[i, 'Bloc Quebecois'] = 'true'\n",
    "\n",
    "        if word.find('democra') > -1 or word == 'dems' or word.find('mulcair') > -1:\n",
    "            unclassified_tweetsFrame.loc[i, 'Democratic'] = 'true'\n",
    "\n",
    "        if word.find('green') > -1 or word.find('elizabethmay') > -1:\n",
    "            unclassified_tweetsFrame.loc[i, 'Green'] = 'true'\n",
    "\n",
    "#get number of tweets for each party            \n",
    "tweet_parties['Liberal'] = len(unclassified_tweetsFrame[unclassified_tweetsFrame['Liberal'] == 'true'])\n",
    "tweet_parties['Conservative'] = len(unclassified_tweetsFrame[unclassified_tweetsFrame['Conservative'] == 'true'])\n",
    "tweet_parties['Quebecois'] = len(unclassified_tweetsFrame[unclassified_tweetsFrame['Bloc Quebecois'] == 'true'])\n",
    "tweet_parties['Democratic'] = len(unclassified_tweetsFrame[unclassified_tweetsFrame['Democratic'] == 'true'])\n",
    "tweet_parties['Green']= len(unclassified_tweetsFrame[unclassified_tweetsFrame['Green'] == 'true'])\n",
    "print(tweet_parties)"
   ]
  },
  {
   "cell_type": "code",
   "execution_count": 10,
   "metadata": {
    "collapsed": false
   },
   "outputs": [
    {
     "data": {
      "image/png": "[encoded data removed]",
      "text/plain": [
       "<matplotlib.figure.Figure at 0x1a1b58fa90>"
      ]
     },
     "metadata": {},
     "output_type": "display_data"
    }
   ],
   "source": [
    "%matplotlib inline\n",
    "party_labels, party_values = zip(*tweet_parties.items())\n",
    "\n",
    "tweet_plot = plt.bar(np.arange(len(party_labels)), party_values, 0.7)\n",
    "plt.xticks(np.arange(len(party_labels)) + 1 * 0.005, party_labels)\n",
    "plt.ylabel('Number of Tweets')\n",
    "plt.xlabel('Political Parties')\n",
    "plt.show()"
   ]
  },
  {
   "cell_type": "markdown",
   "metadata": {},
   "source": [
    "By plotting the number of tweets related to each party, we see that Conservative and Liberal party gain most attention among all polical parties."
   ]
  },
  {
   "cell_type": "markdown",
   "metadata": {},
   "source": [
    "### b. Exploratory Analysis on Classfied Tweets\n",
    "\n",
    "To analyze in which time part of a day people are more likely to post tweets, we want count the number of tweets that were published in the morning, afternoon and evening."
   ]
  },
  {
   "cell_type": "code",
   "execution_count": 11,
   "metadata": {
    "collapsed": false
   },
   "outputs": [
    {
     "data": {
      "text/plain": [
       "Counter({'afternoon': 9719, 'evening': 57483, 'morning': 132798})"
      ]
     },
     "execution_count": 11,
     "metadata": {},
     "output_type": "execute_result"
    }
   ],
   "source": [
    "tweet_times = Counter()\n",
    "time_parts = {'morning', 'afternoon', 'evening'}\n",
    "\n",
    "for time in classified_tweetsFrame.loc[:, 'date']:\n",
    "    time = time.replace('pdt','')\n",
    "    #get date and time of each tweet, count it toward the tweet_times counter\n",
    "    datetime_object = datetime.strptime(time, '%a %b %d %H:%M:%S %Y')\n",
    "    if datetime_object.hour >=16 and datetime_object.hour < 24:\n",
    "        tweet_times['evening'] += 1\n",
    "    elif datetime_object.hour >= 0 and datetime_object.hour < 12:\n",
    "        tweet_times['morning'] += 1\n",
    "    else:\n",
    "        tweet_times['afternoon'] += 1\n",
    "tweet_times     "
   ]
  },
  {
   "cell_type": "code",
   "execution_count": 12,
   "metadata": {
    "collapsed": false
   },
   "outputs": [
    {
     "data": {
      "image/png": "[encoded data removed]",
      "text/plain": [
       "<matplotlib.figure.Figure at 0x1107c27b8>"
      ]
     },
     "metadata": {},
     "output_type": "display_data"
    }
   ],
   "source": [
    "%matplotlib inline\n",
    "time_labels, time_values = zip(*tweet_times.items())\n",
    "time_plot = plt.bar(np.arange(len(time_parts)), time_values, 0.7)\n",
    "plt.xticks(np.arange(len(time_parts)) + 0.7 * 0.005, time_labels)\n",
    "plt.ylabel('Number of Tweets')\n",
    "plt.xlabel('Time Parts')\n",
    "plt.show()"
   ]
  },
  {
   "cell_type": "markdown",
   "metadata": {},
   "source": [
    "From above analysis, we conclude that most tweets were publish in the morning and evening."
   ]
  },
  {
   "cell_type": "markdown",
   "metadata": {},
   "source": [
    "** BONUS ** : Analyze number of tweets published on each of the weekdays"
   ]
  },
  {
   "cell_type": "code",
   "execution_count": 13,
   "metadata": {
    "collapsed": false
   },
   "outputs": [
    {
     "data": {
      "image/png": "[encoded data removed]",
      "text/plain": [
       "<matplotlib.figure.Figure at 0x1a1b7c6208>"
      ]
     },
     "metadata": {},
     "output_type": "display_data"
    }
   ],
   "source": [
    "#BONUS\n",
    "tweet_weekdays = Counter()\n",
    "weekdays = ['Mon', 'Tue', 'Wed', 'Thu', 'Fri', 'Sat', 'Sun']\n",
    "\n",
    "for time in classified_tweetsFrame.loc[:, 'date']:\n",
    "    time = time.replace('pdt','')\n",
    "    #get date and time of each tweets\n",
    "    datetime_object = datetime.strptime(time, '%a %b %d %H:%M:%S %Y')\n",
    "    tweet_weekdays[weekdays[datetime_object.weekday()]] += 1    \n",
    "\n",
    "%matplotlib inline\n",
    "weekday_values = [tweet_weekdays[day] for day in weekdays]\n",
    "time_plot = plt.bar(np.arange(len(weekdays)), weekday_values, 0.7)\n",
    "plt.xticks(np.arange(len(weekdays)) + 0.7 * 0.005, weekdays)\n",
    "plt.ylabel('Number of Tweets')\n",
    "plt.xlabel('Weekdays')\n",
    "plt.show()"
   ]
  },
  {
   "cell_type": "markdown",
   "metadata": {},
   "source": [
    "We can see that most of the tweets were published at the beginning and the end of a week."
   ]
  },
  {
   "cell_type": "markdown",
   "metadata": {},
   "source": [
    "## Part 3: Model Preparation"
   ]
  },
  {
   "cell_type": "markdown",
   "metadata": {},
   "source": [
    "For this section, we first import the classification model libraries that we will use."
   ]
  },
  {
   "cell_type": "code",
   "execution_count": 14,
   "metadata": {
    "collapsed": true
   },
   "outputs": [],
   "source": [
    "from sklearn.feature_extraction.text import CountVectorizer\n",
    "from sklearn.linear_model import LogisticRegression\n",
    "from sklearn.metrics import make_scorer, accuracy_score\n",
    "try:\n",
    "    from sklearn.model_selection import train_test_split\n",
    "except:\n",
    "    from sklearn.cross_validation import train_test_split\n",
    "try:\n",
    "    from sklearn.model_selection import GridSearchCV\n",
    "except:\n",
    "    from sklearn.grid_search import GridSearchCV"
   ]
  },
  {
   "cell_type": "markdown",
   "metadata": {},
   "source": [
    "Split the classified data randomly into training data (70%) and test data (30%).\n",
    "X are the tweets, y are the corresponding sentiment values."
   ]
  },
  {
   "cell_type": "code",
   "execution_count": 15,
   "metadata": {
    "collapsed": true
   },
   "outputs": [],
   "source": [
    "X = classified_tweetsFrame.drop(['class'], axis=1)\n",
    "y = classified_tweetsFrame['class']\n",
    "\n",
    "X_train, X_test, y_train, y_test = train_test_split(X, y, train_size = 0.7, test_size = 0.3)"
   ]
  },
  {
   "cell_type": "markdown",
   "metadata": {},
   "source": [
    "Use the frequency of each word as the features of the model. We also remove stop words in tweets that are in sklearn english stop word collection."
   ]
  },
  {
   "cell_type": "code",
   "execution_count": 16,
   "metadata": {
    "collapsed": true
   },
   "outputs": [],
   "source": [
    "#count the frequency using CountVectorizer\n",
    "vectorize = CountVectorizer(stop_words = 'english')\n",
    "X_vectorized_train = vectorize.fit_transform(X_train['text'])\n",
    "X_vectorized_test = vectorize.transform(X_test['text'])"
   ]
  },
  {
   "cell_type": "markdown",
   "metadata": {},
   "source": [
    "## Part 4: Model Implementation\n",
    "\n",
    "To implement the model, we first train a logistic regression model on the training data and apply the model to the train data and test data to obtain accuracy values."
   ]
  },
  {
   "cell_type": "code",
   "execution_count": 17,
   "metadata": {
    "collapsed": false
   },
   "outputs": [
    {
     "data": {
      "text/plain": [
       "LogisticRegression(C=1.0, class_weight=None, dual=False, fit_intercept=True,\n",
       "          intercept_scaling=1, max_iter=100, multi_class='ovr', n_jobs=1,\n",
       "          penalty='l2', random_state=None, solver='liblinear', tol=0.0001,\n",
       "          verbose=0, warm_start=False)"
      ]
     },
     "execution_count": 17,
     "metadata": {},
     "output_type": "execute_result"
    }
   ],
   "source": [
    "#initlize logistic regression\n",
    "lr = LogisticRegression()\n",
    "\n",
    "#fir lr to training data\n",
    "lr.fit(X_vectorized_train,y_train)"
   ]
  },
  {
   "cell_type": "code",
   "execution_count": 18,
   "metadata": {
    "collapsed": true
   },
   "outputs": [],
   "source": [
    "# Predict using model\n",
    "training_predict = lr.predict(X_vectorized_train)\n",
    "testing_predict = lr.predict(X_vectorized_test)"
   ]
  },
  {
   "cell_type": "markdown",
   "metadata": {},
   "source": [
    "Training accuracy"
   ]
  },
  {
   "cell_type": "code",
   "execution_count": 19,
   "metadata": {
    "collapsed": false
   },
   "outputs": [
    {
     "data": {
      "text/plain": [
       "0.8413357142857143"
      ]
     },
     "execution_count": 19,
     "metadata": {},
     "output_type": "execute_result"
    }
   ],
   "source": [
    "df_lg_train_acc = accuracy_score(y_train,training_predict)\n",
    "df_lg_train_acc"
   ]
  },
  {
   "cell_type": "markdown",
   "metadata": {},
   "source": [
    "Testing accuracy"
   ]
  },
  {
   "cell_type": "code",
   "execution_count": 20,
   "metadata": {
    "collapsed": false
   },
   "outputs": [
    {
     "data": {
      "text/plain": [
       "0.7648666666666667"
      ]
     },
     "execution_count": 20,
     "metadata": {},
     "output_type": "execute_result"
    }
   ],
   "source": [
    "df_lg_test_acc = accuracy_score(y_test,testing_predict)\n",
    "df_lg_test_acc"
   ]
  },
  {
   "cell_type": "markdown",
   "metadata": {},
   "source": [
    "** BONUS ** : We want to improve the performance of this logistic regression model by tuning its hyperparameter."
   ]
  },
  {
   "cell_type": "markdown",
   "metadata": {},
   "source": [
    "We find the corresponding accuracy value of each c parameter in [0.001, 0.01, 0.1, 1, 10, 100, 1000]"
   ]
  },
  {
   "cell_type": "code",
   "execution_count": 21,
   "metadata": {
    "collapsed": true
   },
   "outputs": [],
   "source": [
    "#BONUS\n",
    "C = [0.001, 0.01, 0.1, 1, 10, 100, 1000]\n",
    "output_table = pd.DataFrame(columns = ['C_parameter','Testing Accuracy', 'Training Accuracy'])\n",
    "output_table['C_parameter'] = C\n",
    "\n",
    "j = 0\n",
    "for i in C:\n",
    "    \n",
    "    #Apply logistic regression model to training data\n",
    "    lr = LogisticRegression(penalty = 'l2', C = i,random_state = 0)\n",
    "    lr.fit(X_vectorized_train,y_train)\n",
    "    \n",
    "    #Predict sentiment values of training and testing data\n",
    "    training_predict = lr.predict(X_vectorized_train)\n",
    "    testing_predict = lr.predict(X_vectorized_test)\n",
    "    \n",
    "    #Store accuracy scores in table\n",
    "    output_table.iloc[j,1] = accuracy_score(y_test,testing_predict)\n",
    "    output_table.iloc[j,2] = accuracy_score(y_train,training_predict)\n",
    "    j += 1"
   ]
  },
  {
   "cell_type": "code",
   "execution_count": 22,
   "metadata": {
    "collapsed": false
   },
   "outputs": [
    {
     "name": "stdout",
     "output_type": "stream",
     "text": [
      "   C_parameter Testing Accuracy Training Accuracy\n",
      "0        0.001           0.7225          0.725536\n",
      "1        0.010          0.74705          0.755807\n",
      "2        0.100         0.765767          0.790493\n",
      "3        1.000         0.764867          0.841336\n",
      "4       10.000         0.748467          0.883957\n",
      "5      100.000         0.732333          0.890029\n",
      "6     1000.000         0.721367          0.890336\n"
     ]
    },
    {
     "data": {
      "text/plain": [
       "<matplotlib.axes._subplots.AxesSubplot at 0x1a251b7748>"
      ]
     },
     "execution_count": 22,
     "metadata": {},
     "output_type": "execute_result"
    },
    {
     "data": {
      "image/png": "[encoded data removed]",
      "text/plain": [
       "<matplotlib.figure.Figure at 0x1a1b586be0>"
      ]
     },
     "metadata": {},
     "output_type": "display_data"
    }
   ],
   "source": [
    "print(output_table)\n",
    "output_table.plot(x = 'C_parameter')"
   ]
  },
  {
   "cell_type": "markdown",
   "metadata": {},
   "source": [
    "** BONUS ** : We can also use grid search to find out the best c parameter for our model."
   ]
  },
  {
   "cell_type": "code",
   "execution_count": 23,
   "metadata": {
    "collapsed": false
   },
   "outputs": [
    {
     "data": {
      "text/plain": [
       "LogisticRegression(C=0.1, class_weight=None, dual=False, fit_intercept=True,\n",
       "          intercept_scaling=1, max_iter=100, multi_class='ovr', n_jobs=1,\n",
       "          penalty='l2', random_state=0, solver='liblinear', tol=0.0001,\n",
       "          verbose=0, warm_start=False)"
      ]
     },
     "execution_count": 23,
     "metadata": {},
     "output_type": "execute_result"
    }
   ],
   "source": [
    "#BONUS\n",
    "lr = LogisticRegression(random_state=0, penalty='l2')\n",
    "parameters = {'C': C}\n",
    "\n",
    "#Use classification accuracy to compare c parameters\n",
    "acc_scorer_lg = make_scorer(accuracy_score)\n",
    "\n",
    "#Run a grid search on all the selected parameters\n",
    "grid_obj_lg = GridSearchCV(lr, parameters, scoring=acc_scorer_lg)\n",
    "grid_obj_lg = grid_obj_lg.fit(X_vectorized_train, y_train)\n",
    "\n",
    "#Set our classifier to have the best combination of parameters\n",
    "lr = grid_obj_lg.best_estimator_\n",
    "\n",
    "#Fit the selected classifier to the training data. \n",
    "lr.fit(X_vectorized_train, y_train)"
   ]
  },
  {
   "cell_type": "markdown",
   "metadata": {},
   "source": [
    "Training accuracy of this model"
   ]
  },
  {
   "cell_type": "code",
   "execution_count": 24,
   "metadata": {
    "collapsed": false
   },
   "outputs": [
    {
     "data": {
      "text/plain": [
       "0.7904928571428571"
      ]
     },
     "execution_count": 24,
     "metadata": {},
     "output_type": "execute_result"
    }
   ],
   "source": [
    "training_predict = lr.predict(X_vectorized_train)\n",
    "gs_lg_train_acc = accuracy_score(y_train, training_predict)\n",
    "gs_lg_train_acc"
   ]
  },
  {
   "cell_type": "markdown",
   "metadata": {},
   "source": [
    "Testing accuracy of this model"
   ]
  },
  {
   "cell_type": "code",
   "execution_count": 25,
   "metadata": {
    "collapsed": false
   },
   "outputs": [
    {
     "data": {
      "text/plain": [
       "0.7657666666666667"
      ]
     },
     "execution_count": 25,
     "metadata": {},
     "output_type": "execute_result"
    }
   ],
   "source": [
    "testing_predict = lr.predict(X_vectorized_test)\n",
    "gs_lg_test_acc = accuracy_score(y_test, testing_predict)\n",
    "gs_lg_test_acc"
   ]
  },
  {
   "cell_type": "markdown",
   "metadata": {},
   "source": [
    "Now we have the best c parameter, we can evaluate the model with the unclassified data. "
   ]
  },
  {
   "cell_type": "code",
   "execution_count": 26,
   "metadata": {
    "collapsed": true
   },
   "outputs": [],
   "source": [
    "unclassified_vectorized_test = vectorize.transform(unclassified_tweetsFrame['text'])\n",
    "\n",
    "#predict sentiment value of unclassfied dataset\n",
    "unclassfied_predict = lr.predict(unclassified_vectorized_test)"
   ]
  },
  {
   "cell_type": "code",
   "execution_count": 27,
   "metadata": {
    "collapsed": false
   },
   "outputs": [
    {
     "data": {
      "text/html": [
       "<div>\n",
       "<style scoped>\n",
       "    .dataframe tbody tr th:only-of-type {\n",
       "        vertical-align: middle;\n",
       "    }\n",
       "\n",
       "    .dataframe tbody tr th {\n",
       "        vertical-align: top;\n",
       "    }\n",
       "\n",
       "    .dataframe thead th {\n",
       "        text-align: right;\n",
       "    }\n",
       "</style>\n",
       "<table border=\"1\" class=\"dataframe\">\n",
       "  <thead>\n",
       "    <tr style=\"text-align: right;\">\n",
       "      <th></th>\n",
       "      <th>Bloc Quebecois</th>\n",
       "      <th>Conservative</th>\n",
       "      <th>Democratic</th>\n",
       "      <th>Green</th>\n",
       "      <th>Liberal</th>\n",
       "      <th>class</th>\n",
       "      <th>text</th>\n",
       "      <th>tokenized_text</th>\n",
       "    </tr>\n",
       "  </thead>\n",
       "  <tbody>\n",
       "    <tr>\n",
       "      <th>0</th>\n",
       "      <td>false</td>\n",
       "      <td>false</td>\n",
       "      <td>true</td>\n",
       "      <td>false</td>\n",
       "      <td>false</td>\n",
       "      <td>0</td>\n",
       "      <td>﻿living dream cameraman camera cameraception c...</td>\n",
       "      <td>[﻿living, dream, cameraman, camera, cameracept...</td>\n",
       "    </tr>\n",
       "    <tr>\n",
       "      <th>1</th>\n",
       "      <td>false</td>\n",
       "      <td>false</td>\n",
       "      <td>false</td>\n",
       "      <td>false</td>\n",
       "      <td>true</td>\n",
       "      <td>4</td>\n",
       "      <td>justin trudeau reasons thanksgiving today mont...</td>\n",
       "      <td>[justin, trudeau, reasons, thanksgiving, today...</td>\n",
       "    </tr>\n",
       "    <tr>\n",
       "      <th>2</th>\n",
       "      <td>false</td>\n",
       "      <td>false</td>\n",
       "      <td>false</td>\n",
       "      <td>false</td>\n",
       "      <td>false</td>\n",
       "      <td>0</td>\n",
       "      <td>themadape butt butt we’re allergic latex makes...</td>\n",
       "      <td>[themadape, butt, butt, we, ’, re, allergic, l...</td>\n",
       "    </tr>\n",
       "    <tr>\n",
       "      <th>3</th>\n",
       "      <td>false</td>\n",
       "      <td>false</td>\n",
       "      <td>false</td>\n",
       "      <td>false</td>\n",
       "      <td>false</td>\n",
       "      <td>0</td>\n",
       "      <td>2 massive explosions peace march turkey 30 kil...</td>\n",
       "      <td>[2, massive, explosions, peace, march, turkey,...</td>\n",
       "    </tr>\n",
       "    <tr>\n",
       "      <th>4</th>\n",
       "      <td>false</td>\n",
       "      <td>false</td>\n",
       "      <td>true</td>\n",
       "      <td>false</td>\n",
       "      <td>true</td>\n",
       "      <td>0</td>\n",
       "      <td>mulcair suggests there’s bad blood trudeau rea...</td>\n",
       "      <td>[mulcair, suggests, there, ’, s, bad, blood, t...</td>\n",
       "    </tr>\n",
       "  </tbody>\n",
       "</table>\n",
       "</div>"
      ],
      "text/plain": [
       "  Bloc Quebecois Conservative Democratic  Green Liberal class  \\\n",
       "0          false        false       true  false   false     0   \n",
       "1          false        false      false  false    true     4   \n",
       "2          false        false      false  false   false     0   \n",
       "3          false        false      false  false   false     0   \n",
       "4          false        false       true  false    true     0   \n",
       "\n",
       "                                                text  \\\n",
       "0  ﻿living dream cameraman camera cameraception c...   \n",
       "1  justin trudeau reasons thanksgiving today mont...   \n",
       "2  themadape butt butt we’re allergic latex makes...   \n",
       "3  2 massive explosions peace march turkey 30 kil...   \n",
       "4  mulcair suggests there’s bad blood trudeau rea...   \n",
       "\n",
       "                                      tokenized_text  \n",
       "0  [﻿living, dream, cameraman, camera, cameracept...  \n",
       "1  [justin, trudeau, reasons, thanksgiving, today...  \n",
       "2  [themadape, butt, butt, we, ’, re, allergic, l...  \n",
       "3  [2, massive, explosions, peace, march, turkey,...  \n",
       "4  [mulcair, suggests, there, ’, s, bad, blood, t...  "
      ]
     },
     "execution_count": 27,
     "metadata": {},
     "output_type": "execute_result"
    }
   ],
   "source": [
    "#add ouput of the logistic regression model to unclassfied_tweetsFrame table\n",
    "unclassified_tweetsFrame['class'] = unclassfied_predict\n",
    "unclassified_tweetsFrame.head()"
   ]
  },
  {
   "cell_type": "markdown",
   "metadata": {},
   "source": [
    "** BONUS **: Explore multinomial Naive Bayes classifier and compare it with logistic regression model."
   ]
  },
  {
   "cell_type": "code",
   "execution_count": 28,
   "metadata": {
    "collapsed": true
   },
   "outputs": [],
   "source": [
    "#BONUS\n",
    "\n",
    "#import naive bayes library\n",
    "from sklearn.naive_bayes import MultinomialNB\n",
    "\n",
    "#initialize multinomial naive bayes classfifier\n",
    "nb = MultinomialNB()\n",
    "\n",
    "# Fit the nb classifier to the training data\n",
    "nb.fit(X_vectorized_train, y_train)\n",
    "\n",
    "nb_train_predict = nb.predict(X_vectorized_train)\n",
    "nb_test_predict = nb.predict(X_vectorized_test)"
   ]
  },
  {
   "cell_type": "markdown",
   "metadata": {},
   "source": [
    "Training Accuracy"
   ]
  },
  {
   "cell_type": "code",
   "execution_count": 29,
   "metadata": {
    "collapsed": false
   },
   "outputs": [
    {
     "data": {
      "text/plain": [
       "0.8245214285714285"
      ]
     },
     "execution_count": 29,
     "metadata": {},
     "output_type": "execute_result"
    }
   ],
   "source": [
    "df_nb_train_acc =accuracy_score(y_train, nb_train_predict)\n",
    "df_nb_train_acc"
   ]
  },
  {
   "cell_type": "markdown",
   "metadata": {},
   "source": [
    "Testing Accuracy"
   ]
  },
  {
   "cell_type": "code",
   "execution_count": 30,
   "metadata": {
    "collapsed": false
   },
   "outputs": [
    {
     "data": {
      "text/plain": [
       "0.75645"
      ]
     },
     "execution_count": 30,
     "metadata": {},
     "output_type": "execute_result"
    }
   ],
   "source": [
    "df_nb_test_acc = accuracy_score(y_test, nb_test_predict)\n",
    "df_nb_test_acc"
   ]
  },
  {
   "cell_type": "code",
   "execution_count": 31,
   "metadata": {
    "collapsed": false
   },
   "outputs": [
    {
     "data": {
      "text/html": [
       "<div>\n",
       "<style scoped>\n",
       "    .dataframe tbody tr th:only-of-type {\n",
       "        vertical-align: middle;\n",
       "    }\n",
       "\n",
       "    .dataframe tbody tr th {\n",
       "        vertical-align: top;\n",
       "    }\n",
       "\n",
       "    .dataframe thead th {\n",
       "        text-align: right;\n",
       "    }\n",
       "</style>\n",
       "<table border=\"1\" class=\"dataframe\">\n",
       "  <thead>\n",
       "    <tr style=\"text-align: right;\">\n",
       "      <th></th>\n",
       "      <th>Data</th>\n",
       "      <th>Default Logistic Regression Accuracy</th>\n",
       "      <th>Grid Search Logistic Regression Accuracy</th>\n",
       "      <th>Default Naive Bayes Accuracy</th>\n",
       "    </tr>\n",
       "  </thead>\n",
       "  <tbody>\n",
       "    <tr>\n",
       "      <th>0</th>\n",
       "      <td>Training</td>\n",
       "      <td>0.841336</td>\n",
       "      <td>0.790493</td>\n",
       "      <td>0.824521</td>\n",
       "    </tr>\n",
       "    <tr>\n",
       "      <th>1</th>\n",
       "      <td>Testing</td>\n",
       "      <td>0.764867</td>\n",
       "      <td>0.765767</td>\n",
       "      <td>0.756450</td>\n",
       "    </tr>\n",
       "  </tbody>\n",
       "</table>\n",
       "</div>"
      ],
      "text/plain": [
       "       Data  Default Logistic Regression Accuracy  \\\n",
       "0  Training                              0.841336   \n",
       "1   Testing                              0.764867   \n",
       "\n",
       "   Grid Search Logistic Regression Accuracy  Default Naive Bayes Accuracy  \n",
       "0                                  0.790493                      0.824521  \n",
       "1                                  0.765767                      0.756450  "
      ]
     },
     "execution_count": 31,
     "metadata": {},
     "output_type": "execute_result"
    }
   ],
   "source": [
    "model_accuracies = pd.DataFrame(columns = [\n",
    "'Data',\n",
    "'Default Logistic Regression Accuracy', \n",
    "'Grid Search Logistic Regression Accuracy' ,\n",
    "'Default Naive Bayes Accuracy'])\n",
    "model_accuracies['Data'] = ['Training', 'Testing']\n",
    "model_accuracies['Default Logistic Regression Accuracy'] = [df_lg_train_acc, df_lg_test_acc]\n",
    "model_accuracies['Grid Search Logistic Regression Accuracy'] = [gs_lg_train_acc, gs_lg_test_acc]\n",
    "model_accuracies['Default Naive Bayes Accuracy'] = [df_nb_train_acc, df_nb_test_acc]\n",
    "\n",
    "model_accuracies"
   ]
  },
  {
   "cell_type": "markdown",
   "metadata": {},
   "source": [
    "The accuracies of default multinominal naive bayes classifier model are slightly lower than those of the default logistic regression model."
   ]
  },
  {
   "cell_type": "markdown",
   "metadata": {},
   "source": [
    "## Part 5: Discussion\n",
    "\n",
    "Now as we have the sentiment values and related political parties information of all the tweets in unclassfied dataset, we can count the number of positive and negative tweets of each political parties"
   ]
  },
  {
   "cell_type": "markdown",
   "metadata": {},
   "source": [
    "This section uses the output of logistic regression with grid search method in part 4."
   ]
  },
  {
   "cell_type": "code",
   "execution_count": 32,
   "metadata": {
    "collapsed": false
   },
   "outputs": [
    {
     "data": {
      "text/plain": [
       "{'Conservative': {'negative': 211, 'positive': 437},\n",
       " 'Democratic': {'negative': 70, 'positive': 251},\n",
       " 'Green': {'negative': 7, 'positive': 33},\n",
       " 'Liberal': {'negative': 154, 'positive': 468},\n",
       " 'Quebecois': {'negative': 2, 'positive': 23}}"
      ]
     },
     "execution_count": 32,
     "metadata": {},
     "output_type": "execute_result"
    }
   ],
   "source": [
    "#count the number of positive and negative tweets for each political parties\n",
    "political_sentiment = {party:{'positive':0, 'negative':0} for party in parties}\n",
    "sentiment = unclassified_tweetsFrame['class']\n",
    "liberal = unclassified_tweetsFrame['Liberal']\n",
    "conservative = unclassified_tweetsFrame['Conservative']\n",
    "quebecois = unclassified_tweetsFrame['Bloc Quebecois']\n",
    "democratic = unclassified_tweetsFrame['Democratic']\n",
    "green = unclassified_tweetsFrame['Green']\n",
    "\n",
    "political_sentiment['Liberal']['negative'] = len(unclassified_tweetsFrame[np.logical_and(sentiment == '0', liberal == 'true')])\n",
    "political_sentiment['Liberal']['positive'] = len(unclassified_tweetsFrame[np.logical_and(sentiment == '4', liberal == 'true')])\n",
    "\n",
    "political_sentiment['Conservative']['negative'] = len(unclassified_tweetsFrame[np.logical_and(sentiment == '0', conservative == 'true')])\n",
    "political_sentiment['Conservative']['positive'] = len(unclassified_tweetsFrame[np.logical_and(sentiment == '4', conservative == 'true')])\n",
    "\n",
    "political_sentiment['Quebecois']['negative'] = len(unclassified_tweetsFrame[np.logical_and(sentiment == '0', quebecois == 'true')])\n",
    "political_sentiment['Quebecois']['positive'] = len(unclassified_tweetsFrame[np.logical_and(sentiment == '4', quebecois == 'true')])\n",
    "\n",
    "political_sentiment['Democratic']['negative'] = len(unclassified_tweetsFrame[np.logical_and(sentiment == '0', democratic == 'true')])\n",
    "political_sentiment['Democratic']['positive'] = len(unclassified_tweetsFrame[np.logical_and(sentiment == '4', democratic == 'true')])\n",
    "\n",
    "political_sentiment['Green']['negative'] = len(unclassified_tweetsFrame[np.logical_and(sentiment == '0', green == 'true')])\n",
    "political_sentiment['Green']['positive'] = len(unclassified_tweetsFrame[np.logical_and(sentiment == '4', green == 'true')])\n",
    "\n",
    "political_sentiment"
   ]
  },
  {
   "cell_type": "code",
   "execution_count": 33,
   "metadata": {
    "collapsed": false
   },
   "outputs": [
    {
     "data": {
      "image/png": "[encoded data removed]",
      "text/plain": [
       "<matplotlib.figure.Figure at 0x1a1b7d7b00>"
      ]
     },
     "metadata": {},
     "output_type": "display_data"
    }
   ],
   "source": [
    "%matplotlib inline\n",
    "negative = [political_sentiment[party]['negative'] for party in political_sentiment]\n",
    "positive = [political_sentiment[party]['positive'] for party in political_sentiment]\n",
    "\n",
    "N = 5\n",
    "ind = np.arange(N)  #the x locations for the parties\n",
    "width = 0.35       #the width of the bars\n",
    "\n",
    "fig, ax = plt.subplots()\n",
    "bars1 = ax.bar(ind, negative, width, color='r')\n",
    "bars2 = ax.bar(ind + width, positive, width, color='g')\n",
    "\n",
    "#add labels, title and axes ticks\n",
    "ax.set_ylabel('Number of Tweets')\n",
    "ax.set_title('Political Sentiment')\n",
    "ax.set_xticks(ind + width / 2)\n",
    "ax.set_xticklabels([party for party in political_sentiment])\n",
    "\n",
    "ax.legend((bars1[0], bars2[0]), ('negative', 'positive'))\n",
    "\n",
    "\n",
    "def label_bars(bars):\n",
    "    #label number of tweets for each bar\n",
    "    for bar in bars:\n",
    "        height = bar.get_height()\n",
    "        ax.text(bar.get_x() + bar.get_width()/2., 1.05*height,'%d' % int(height), ha='center', va='bottom')\n",
    "\n",
    "label_bars(bars1)\n",
    "label_bars(bars2)\n",
    "\n",
    "\n",
    "plt.show()"
   ]
  },
  {
   "cell_type": "markdown",
   "metadata": {},
   "source": [
    "From the plot above, we could see that there are lots of tweets related to Liberal and Conservative parties, implying people pay most attention to them. We also see that people pay least attention to Bloc Quebecois and Green party. The number of tweets related to Conservate > Liberal > New NDemocratic > Green > Bloc Quebecois.\n",
    " \n",
    "We could consider the number of positive tweets of each party as number of votes. The potential sequence of number of votes in decreasing order is \"Liberal > Conservative > New Democratic > Green > Bloc Quebecois\". This is mostly true because the actual result of 2015 Canadian election was \"Liberal > Conservative > New Democratic > Bloc Quebecois > Green\". We see that Liberal party gains most votes among all parties \n",
    "\n",
    "On the other hand, the sequence of number of negative tweets in decreasing order is \"Conservative > Liberal > New Democratic > Green > Quebecois\". These numbers only reflect the social and political presence of the parties. They do not reveal the support rates of the parties. "
   ]
  }
 ],
 "metadata": {
  "kernelspec": {
   "display_name": "Python 3",
   "language": "python",
   "name": "python3"
  },
  "language_info": {
   "codemirror_mode": {
    "name": "ipython",
    "version": 3
   },
   "file_extension": ".py",
   "mimetype": "text/x-python",
   "name": "python",
   "nbconvert_exporter": "python",
   "pygments_lexer": "ipython3",
   "version": "3.6.5"
  },
  "widgets": {
   "state": {},
   "version": "1.1.2"
  }
 },
 "nbformat": 4,
 "nbformat_minor": 2
}
